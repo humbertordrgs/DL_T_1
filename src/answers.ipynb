{
 "nbformat": 4,
 "nbformat_minor": 0,
 "metadata": {
  "colab": {
   "name": "answers.ipynb",
   "provenance": [],
   "collapsed_sections": [],
   "toc_visible": true
  },
  "kernelspec": {
   "name": "python3",
   "display_name": "Python 3"
  },
  "accelerator": "GPU"
 },
 "cells": [
  {
   "cell_type": "markdown",
   "metadata": {
    "id": "iCszeuRk0NuH"
   },
   "source": [
    "## Task 1: Activation Functions and FF pre-trained Neural Network <br/> CC6204 Deep Learning, Universidad de Chile.\n",
    "#### Name: Humberto Rodrigues"
   ]
  },
  {
   "cell_type": "code",
   "metadata": {
    "id": "8QQB7jV7LMEo",
    "outputId": "dfd66085-6806-404b-cdbb-ef5a82932ff6",
    "colab": {
     "base_uri": "https://localhost:8080/",
     "height": 170
    }
   },
   "source": [
    "import torch\n",
    "import torch.nn as nn\n",
    "\n",
    "# Autocorrect utility\n",
    "!pip install \"git+https://github.com/dccuchile/CC6204.git@master#egg=cc6204&subdirectory=autocorrect\""
   ],
   "execution_count": null,
   "outputs": [
    {
     "output_type": "stream",
     "text": [
      "Requirement already satisfied: cc6204 from git+https://github.com/dccuchile/CC6204.git@master#egg=cc6204&subdirectory=autocorrect in /usr/local/lib/python3.6/dist-packages (0.3.2)\n",
      "Requirement already satisfied: torch in /usr/local/lib/python3.6/dist-packages (from cc6204) (1.6.0+cu101)\n",
      "Requirement already satisfied: requests in /usr/local/lib/python3.6/dist-packages (from cc6204) (2.23.0)\n",
      "Requirement already satisfied: numpy in /usr/local/lib/python3.6/dist-packages (from cc6204) (1.18.5)\n",
      "Requirement already satisfied: future in /usr/local/lib/python3.6/dist-packages (from torch->cc6204) (0.16.0)\n",
      "Requirement already satisfied: chardet<4,>=3.0.2 in /usr/local/lib/python3.6/dist-packages (from requests->cc6204) (3.0.4)\n",
      "Requirement already satisfied: idna<3,>=2.5 in /usr/local/lib/python3.6/dist-packages (from requests->cc6204) (2.10)\n",
      "Requirement already satisfied: certifi>=2017.4.17 in /usr/local/lib/python3.6/dist-packages (from requests->cc6204) (2020.6.20)\n",
      "Requirement already satisfied: urllib3!=1.25.0,!=1.25.1,<1.26,>=1.21.1 in /usr/local/lib/python3.6/dist-packages (from requests->cc6204) (1.24.3)\n"
     ],
     "name": "stdout"
    }
   ]
  },
  {
   "cell_type": "code",
   "metadata": {
    "id": "49OevYJkMdgW",
    "outputId": "98976b91-b19e-46ce-a9a1-ac4f710765ed",
    "colab": {
     "base_uri": "https://localhost:8080/",
     "height": 34
    }
   },
   "source": [
    "# Importing Autocorrect\n",
    "from cc6204 import AutoCorrect\n",
    "corrector = AutoCorrect(host=\"cc6204.dcc.uchile.cl\",port=\"443\")\n",
    "token = \"]ye/Ox;nsz\""
   ],
   "execution_count": null,
   "outputs": [
    {
     "output_type": "stream",
     "text": [
      "Connection stablished\n"
     ],
     "name": "stdout"
    }
   ]
  },
  {
   "cell_type": "markdown",
   "metadata": {
    "id": "Uq9u0IfT0VRp"
   },
   "source": [
    "## Part 1: Non-Linear Activation and output Functions"
   ]
  },
  {
   "cell_type": "markdown",
   "metadata": {
    "id": "DMw80P8o0qrJ"
   },
   "source": [
    "* ### Non-Linear Activation Functions:"
   ]
  },
  {
   "cell_type": "code",
   "metadata": {
    "id": "tDhcNbNT0YNr"
   },
   "source": [
    "def sig(T):\n",
    "  return torch.reciprocal(1 + torch.exp(-1 * T))\n",
    "\n",
    "def tanh(T):\n",
    "  E = torch.exp(T)\n",
    "  e = torch.exp(-1 * T)\n",
    "  return (E - e) * torch.reciprocal(E + e)\n",
    "\n",
    "def relu(T):\n",
    "  return torch.max(T,torch.zeros(T.size(),device=T.device))\n",
    "\n",
    "def swish(T, beta=1.0):\n",
    "  return T * sig(beta * T)\n",
    "\n",
    "def celu(T, alpha=1.0):\n",
    "  zero_T = torch.zeros(T.size(),device=T.device)\n",
    "  return torch.max(T,zero_T) + torch.min(alpha * (torch.exp(T/alpha) - 1),zero_T)"
   ],
   "execution_count": null,
   "outputs": []
  },
  {
   "cell_type": "code",
   "metadata": {
    "id": "s0SmO2x7M1pn",
    "outputId": "c043f792-bc7c-4dd5-ccbd-9b3f43f05823",
    "colab": {
     "base_uri": "https://localhost:8080/",
     "height": 129
    }
   },
   "source": [
    "|# Downloading external test data for each activation function\n",
    "test_relu = corrector.get_test_data(homework=1, question=\"1a\", test=1, token=token)\n",
    "test_swish, swish_par = corrector.get_test_data(homework=1, question=\"1a\", test=2, token=token)\n",
    "test_celu, celu_par = corrector.get_test_data(homework=1, question=\"1a\", test=3, token=token)\n",
    "\n",
    "corrector.sumbit(homework=1, question=\"1a\", test=1, token=token, answer=relu(torch.tensor(test_relu)))\n",
    "corrector.sumbit(homework=1, question=\"1a\", test=2, token=token, answer=swish(torch.tensor(test_swish), swish_par))\n",
    "corrector.sumbit(homework=1, question=\"1a\", test=3, token=token, answer=celu(torch.tensor(test_celu), celu_par))"
   ],
   "execution_count": null,
   "outputs": [
    {
     "output_type": "error",
     "ename": "SyntaxError",
     "evalue": "ignored",
     "traceback": [
      "\u001B[0;36m  File \u001B[0;32m\"<ipython-input-4-5d21ad840316>\"\u001B[0;36m, line \u001B[0;32m1\u001B[0m\n\u001B[0;31m    |# Downloading external test data for each activation function\u001B[0m\n\u001B[0m    ^\u001B[0m\n\u001B[0;31mSyntaxError\u001B[0m\u001B[0;31m:\u001B[0m invalid syntax\n"
     ]
    }
   ]
  },
  {
   "cell_type": "markdown",
   "metadata": {
    "id": "e_0dTh7l1bas"
   },
   "source": [
    "* ### Output Function, Softmax:"
   ]
  },
  {
   "cell_type": "markdown",
   "metadata": {
    "id": "NjIyp2nL1le5"
   },
   "source": [
    "The first thing is that We need to define a computational stable variation of the `softmax` but avoiding changes in the\n",
    "result. A pretty common solution for this problem is to find the `max` value inside the tensor and subtracts it to each\n",
    "element of the collection. Applying this method changes the definition of the `softmax` to this:\n",
    "\n",
    "$\\text{softmax}(x_1,\\ldots,x_n)$ is another collection $(s_1,\\ldots,s_n)$ where\n",
    "\\begin{equation}\n",
    "s_i = \\frac{e^{x_i - M}}{\\sum_{j=1}^{n}e^{x_j-M}}\n",
    "\\end{equation} being `M` the max value previously mentioned.\n",
    "\n",
    "The next step is to demonstrate that the addition of `M`  won't affect the results:\n",
    "\n",
    "Steps:\n",
    "* Applying exponent rules ($e^{a-b} =  \\frac{e^{a}}{e^{b}}$):\n",
    "\\begin{equation}\n",
    "s_i = \\frac{\\frac{e^{x_i}}{e^{M}}}{\\sum_{j=1}^{n}\\frac{e^{x_j}}{e^{M}}}\n",
    "\\end{equation}\n",
    "* We can extract the constant $\\frac{1}{e^{M}}$ from the summatory because there is no dependency with `j`:\n",
    "\\begin{equation}\n",
    "s_i = \\frac{\\frac{e^{x_i}}{e^{M}}}{\\frac{\\sum_{j=1}^{n}e^{x_j}}{e^{M}}}\n",
    "\\end{equation}\n",
    "\n",
    "* The next step is to apply the double `C` Rule for fractions:\n",
    "\\begin{equation}\n",
    "s_i = \\frac{e^{x_i}\\cdot e^{M}}{e^{M} \\cdot {\\sum_{j=1}^{n}e^{x_j}}}\n",
    "\\end{equation}\n",
    "\n",
    "* Finally the $e^{M}$ constants cancel each other and we obtain the original definition of the `softmax`:\n",
    "\\begin{equation}\n",
    "s_i = \\frac{e^{x_i}}{\\sum_{j=1}^{n}e^{x_j}}\n",
    "\\end{equation}"
   ]
  },
  {
   "cell_type": "code",
   "metadata": {
    "id": "jDg2sU7D1dIY"
   },
   "source": [
    "def softmax(T, dim=1, stable=True):\n",
    "  maxes = torch.max(T, dim, keepdim=True)[0] if stable else 0\n",
    "  x_exp = torch.exp(T-maxes)\n",
    "  x_exp_sum = torch.sum(x_exp, dim, keepdim=True)\n",
    "  return x_exp/x_exp_sum"
   ],
   "execution_count": null,
   "outputs": []
  },
  {
   "cell_type": "code",
   "metadata": {
    "id": "4nJhjuGZXgkM",
    "outputId": "8d49e465-964f-4fc8-ca84-5eff28ea46ef",
    "colab": {
     "base_uri": "https://localhost:8080/",
     "height": 34
    }
   },
   "source": [
    "# Downloading external test data for output function\n",
    "test_softmax, _dim = corrector.get_test_data(homework=1, question=\"1b\", test=1, token=token)\n",
    "corrector.sumbit(homework=1, question=\"1b\", test=1, token=token, answer=softmax(torch.tensor(test_softmax), dim=_dim))"
   ],
   "execution_count": null,
   "outputs": [
    {
     "output_type": "stream",
     "text": [
      "Correct Test!\n"
     ],
     "name": "stdout"
    }
   ]
  },
  {
   "cell_type": "markdown",
   "metadata": {
    "id": "662XLsDA9XXI"
   },
   "source": [
    "## Part 2: Building a Feed Forward Neural Network"
   ]
  },
  {
   "cell_type": "code",
   "metadata": {
    "id": "f_jeuYbv9WhK"
   },
   "source": [
    "class FFNN(torch.nn.Module):\n",
    "  def create_parameters(self, h_l, l_a, C, extra=None,initial_weights=None):\n",
    "    internal_layers = []\n",
    "    internal_biases = []\n",
    "    for i in range(0, len(h_l)-1):\n",
    "      if initial_weights:\n",
    "        # The structure with initial weights for the `lth` layer will be (W,b)\n",
    "        # We need to ensure that the dimensions of the data MATCH with the model\n",
    "        current_weights = initial_weights[i][0]\n",
    "        current_bias = initial_weights[i][1]\n",
    "        if len(current_weights) != h_l[i] or len(current_weights[0]) != h_l[i+1] or len(current_bias) != h_l[i+1]:\n",
    "          raise Exception(\"Dimension mismatch\")\n",
    "        else:\n",
    "          internal_layers.append(nn.Parameter(current_weights))\n",
    "          internal_biases.append(nn.Parameter(current_bias))\n",
    "      else:\n",
    "        internal_layers.append(nn.Parameter(torch.randn(h_l[i],h_l[i+1])))\n",
    "        internal_biases.append(nn.Parameter(torch.zeros(h_l[i+1])))\n",
    "\n",
    "    self.h_layers = nn.ParameterList(internal_layers)\n",
    "    self.biases = nn.ParameterList(internal_biases)\n",
    "    self.activation_functions = l_a[:-1]\n",
    "    self.extra_params = extra\n",
    "\n",
    "    # Output Layer, bias, and softmax (c)\n",
    "    # It is important to notice the use of ParameterList also for this layer\n",
    "    # This is because the nn.Parameter directly is not being reflected in the \n",
    "    # print(model) method and that is the one being used for the summary \n",
    "\n",
    "    if initial_weights:\n",
    "      # Is expected that the last position of `initial_weights` is (U,c)\n",
    "      output_weights = initial_weights[-1][0]\n",
    "      output_bias = initial_weights[-1][1]\n",
    "\n",
    "      if len(output_weights) != h_l[-1] or len(output_weights[0]) != C or len(output_bias) != C:\n",
    "          raise Exception(\"Dimension mismatch\")\n",
    "      else:\n",
    "        self.output_layer = nn.ParameterList([nn.Parameter(output_weights)])\n",
    "        self.output_bias = nn.ParameterList([nn.Parameter(output_bias)])\n",
    "    else:\n",
    "      self.output_layer = nn.ParameterList([nn.Parameter(torch.randn(h_l[-1],C))])\n",
    "      self.output_bias = nn.ParameterList([nn.Parameter(torch.zeros(C))])\n",
    "    self.output_function = l_a[-1]\n",
    "\n",
    "  def __init__(self, F, l_h, l_a, C, extra=None, initial_weights=None):\n",
    "    super(FFNN, self).__init__()\n",
    "\n",
    "    if len(l_h)+1 != len(l_a):\n",
    "      raise Exception(\"Dimension mismatch\")\n",
    "    if extra and len(extra) != len(l_a):\n",
    "      raise Exception(\"Dimension mismatch\")\n",
    "    if initial_weights and len(initial_weights) != (len(l_h) + 1):\n",
    "      raise Exception(\"Dimension mismatch\")\n",
    "\n",
    "    self.create_parameters([F]+l_h,l_a,C,extra,initial_weights)\n",
    "  \n",
    "  def summary(self):\n",
    "    print(f\"#######MODEL SUMMARY#######\\n\\n{self}\\n\")\n",
    "    print(f\"Activation Functions{[f.__name__ for f in self.activation_functions+[self.output_function]]}\\n\")\n",
    "    print(f\"Extra Params{self.extra_params}\\n\")\n",
    "    print(f\"Total trainable Parameters: { sum(p.numel() for p in self.parameters() if p.requires_grad)}\")\n",
    "    print(f\"Total Parameters: { sum(p.numel() for p in self.parameters())}\\n\")\n",
    "    print(f\"########SUMMARY END########\\n\\n\")\n",
    "  \n",
    "  def forward(self, x):\n",
    "    for i in range(0, len(self.h_layers)):\n",
    "      # Validation to retrieve the possible extra params for the i_th activation function\n",
    "      current_extras = self.extra_params[i] if self.extra_params and self.extra_params[i] else {}\n",
    "\n",
    "      # H = x * W + b\n",
    "      x =  self.activation_functions[i](torch.matmul(x,self.h_layers[i]) + self.biases[i],**current_extras)\n",
    "\n",
    "    # Validation to retrieve the possible extra params for the output activation function\n",
    "    output_extras = self.extra_params[-1] if self.extra_params and self.extra_params[i] else {}\n",
    "\n",
    "    # y' = x * U + c\n",
    "    x = self.output_function(torch.matmul(x,self.output_layer[0]) + self.output_bias[0],**output_extras)\n",
    "    return x"
   ],
   "execution_count": null,
   "outputs": []
  },
  {
   "cell_type": "markdown",
   "metadata": {
    "id": "Bgf5Xx-34Pa1"
   },
   "source": [
    "The next test is creating an instance of our `FFNN`, it is important to notice the format for the `extra` param.\n",
    "`extra` will be an array where the i_th position will have a dictionary that will contain all the additional parameters\n",
    "We want to use in the i_th activation function. The dictionary `key` is more verbose and help to understand the meaning\n",
    "of the value we are adding."
   ]
  },
  {
   "cell_type": "code",
   "metadata": {
    "id": "2zppplXd4QXa",
    "outputId": "eb51bc96-9a84-4b32-b65e-7accc2c5fc7e",
    "colab": {
     "base_uri": "https://localhost:8080/",
     "height": 442
    }
   },
   "source": [
    "# for activation functions with multiple custom params, the ** operator will spread the dictionary and easily pass them\n",
    "demo_network = FFNN(2,[3,4],[relu,sig,softmax],5,extra=[None,None,{\"dim\":1, \"stable\": False}])\n",
    "demo_network.summary()"
   ],
   "execution_count": null,
   "outputs": [
    {
     "output_type": "stream",
     "text": [
      "#######MODEL SUMMARY#######\n",
      "\n",
      "FFNN(\n",
      "  (h_layers): ParameterList(\n",
      "      (0): Parameter containing: [torch.FloatTensor of size 2x3]\n",
      "      (1): Parameter containing: [torch.FloatTensor of size 3x4]\n",
      "  )\n",
      "  (biases): ParameterList(\n",
      "      (0): Parameter containing: [torch.FloatTensor of size 3]\n",
      "      (1): Parameter containing: [torch.FloatTensor of size 4]\n",
      "  )\n",
      "  (output_layer): ParameterList(  (0): Parameter containing: [torch.FloatTensor of size 4x5])\n",
      "  (output_bias): ParameterList(  (0): Parameter containing: [torch.FloatTensor of size 5])\n",
      ")\n",
      "\n",
      "Activation Functions['relu', 'sig', 'softmax']\n",
      "\n",
      "Extra Params[None, None, {'dim': 1, 'stable': False}]\n",
      "\n",
      "Total trainable Parameters: 50\n",
      "Total Parameters: 50\n",
      "\n",
      "########SUMMARY END########\n",
      "\n",
      "\n"
     ],
     "name": "stdout"
    }
   ]
  },
  {
   "cell_type": "code",
   "metadata": {
    "id": "QeLcXj4WGp2x",
    "outputId": "56ba48f1-0f2e-402b-d274-e9f48809a480",
    "colab": {
     "base_uri": "https://localhost:8080/",
     "height": 442
    }
   },
   "source": [
    "demo_network.to(\"cpu\")\n",
    "demo_input = torch.randn(25,2)\n",
    "demo_network(demo_input)"
   ],
   "execution_count": null,
   "outputs": [
    {
     "output_type": "execute_result",
     "data": {
      "text/plain": [
       "tensor([[0.2075, 0.3735, 0.0147, 0.1549, 0.2494],\n",
       "        [0.1137, 0.4131, 0.0126, 0.1600, 0.3006],\n",
       "        [0.1587, 0.4071, 0.0133, 0.1580, 0.2628],\n",
       "        [0.2105, 0.4045, 0.0105, 0.1453, 0.2292],\n",
       "        [0.2145, 0.3762, 0.0135, 0.1513, 0.2446],\n",
       "        [0.2148, 0.3765, 0.0134, 0.1510, 0.2444],\n",
       "        [0.2131, 0.3752, 0.0138, 0.1522, 0.2457],\n",
       "        [0.1655, 0.4165, 0.0122, 0.1550, 0.2508],\n",
       "        [0.0798, 0.5956, 0.0029, 0.1130, 0.2087],\n",
       "        [0.1797, 0.3944, 0.0140, 0.1573, 0.2545],\n",
       "        [0.1644, 0.4583, 0.0089, 0.1450, 0.2235],\n",
       "        [0.1137, 0.4131, 0.0126, 0.1600, 0.3006],\n",
       "        [0.0716, 0.5900, 0.0029, 0.1110, 0.2245],\n",
       "        [0.1137, 0.4131, 0.0126, 0.1600, 0.3006],\n",
       "        [0.1028, 0.4968, 0.0072, 0.1295, 0.2637],\n",
       "        [0.1127, 0.4213, 0.0119, 0.1568, 0.2973],\n",
       "        [0.0967, 0.5038, 0.0063, 0.1378, 0.2555],\n",
       "        [0.0745, 0.5753, 0.0034, 0.1159, 0.2309],\n",
       "        [0.1321, 0.4957, 0.0070, 0.1394, 0.2258],\n",
       "        [0.0962, 0.4871, 0.0072, 0.1401, 0.2694],\n",
       "        [0.1137, 0.4131, 0.0126, 0.1600, 0.3006],\n",
       "        [0.1124, 0.4237, 0.0117, 0.1559, 0.2963],\n",
       "        [0.1137, 0.4131, 0.0126, 0.1600, 0.3006],\n",
       "        [0.1117, 0.4289, 0.0113, 0.1539, 0.2941],\n",
       "        [0.0703, 0.5912, 0.0029, 0.1117, 0.2240]], grad_fn=<DivBackward0>)"
      ]
     },
     "metadata": {
      "tags": []
     },
     "execution_count": 9
    }
   ]
  },
  {
   "cell_type": "code",
   "metadata": {
    "id": "3VZSBy2FGrwP",
    "outputId": "a1916b53-1222-40ac-dd81-8c0f0e0e141b",
    "colab": {
     "base_uri": "https://localhost:8080/",
     "height": 221
    }
   },
   "source": [
    "demo_network.to(\"cuda\")"
   ],
   "execution_count": null,
   "outputs": [
    {
     "output_type": "execute_result",
     "data": {
      "text/plain": [
       "FFNN(\n",
       "  (h_layers): ParameterList(\n",
       "      (0): Parameter containing: [torch.cuda.FloatTensor of size 2x3 (GPU 0)]\n",
       "      (1): Parameter containing: [torch.cuda.FloatTensor of size 3x4 (GPU 0)]\n",
       "  )\n",
       "  (biases): ParameterList(\n",
       "      (0): Parameter containing: [torch.cuda.FloatTensor of size 3 (GPU 0)]\n",
       "      (1): Parameter containing: [torch.cuda.FloatTensor of size 4 (GPU 0)]\n",
       "  )\n",
       "  (output_layer): ParameterList(  (0): Parameter containing: [torch.cuda.FloatTensor of size 4x5 (GPU 0)])\n",
       "  (output_bias): ParameterList(  (0): Parameter containing: [torch.cuda.FloatTensor of size 5 (GPU 0)])\n",
       ")"
      ]
     },
     "metadata": {
      "tags": []
     },
     "execution_count": 10
    }
   ]
  },
  {
   "cell_type": "markdown",
   "metadata": {
    "id": "swTnKxznL6Ep",
    "pycharm": {
     "name": "#%% md\n"
    }
   },
   "source": [
    "## Part 3: Testing the network using pre-trained parameters for MNIST dataset"
   ]
  },
  {
   "cell_type": "code",
   "metadata": {
    "id": "uOBcElJ7BPcQ",
    "outputId": "4e13bdf4-463f-4a85-fc71-60f0f8725287",
    "colab": {
     "base_uri": "https://localhost:8080/",
     "height": 34
    },
    "pycharm": {
     "name": "#%%\n"
    }
   },
   "source": [
    "from torchvision.datasets import MNIST, ImageFolder\n",
    "from torchvision.transforms import ToTensor, Compose, Grayscale, Resize\n",
    "from matplotlib.pyplot import subplots\n",
    "\n",
    "def plot_examples(examples):\n",
    "  fig, axs = subplots(nrows=len(examples), figsize=(2,len(examples)*3))\n",
    "  for i,e in enumerate(examples):\n",
    "    T, l = e\n",
    "    img = T.view(28,28).cpu().numpy()\n",
    "    if len(examples) > 1:\n",
    "      axs[i].set_title(\"Estimated class: \"+ str(l))\n",
    "      axs[i].imshow(img)\n",
    "    else:\n",
    "      axs.set_title(\"Estimated class: \"+ str(l))\n",
    "      axs.imshow(img)\n",
    "\n",
    "\n",
    "# Downloading and storing MNIST dataset.\n",
    "dataset = MNIST('mnist', train=False, transform=ToTensor(), download=True)\n",
    "print('Total data:',len(dataset))"
   ],
   "execution_count": null,
   "outputs": [
    {
     "output_type": "stream",
     "text": [
      "Total data: 10000\n"
     ],
     "name": "stdout"
    }
   ]
  },
  {
   "cell_type": "markdown",
   "metadata": {
    "id": "s6s-z1DNL-J0",
    "pycharm": {
     "name": "#%% md\n"
    }
   },
   "source": [
    "* ### Loading pre-trained params\n",
    "`load_pre_trained_mnist` is a pretty simple utility that assume the files with the pre-trained\n",
    "values exist in the repository of this project."
   ]
  },
  {
   "cell_type": "code",
   "metadata": {
    "id": "SLeq3y8FE3SU",
    "pycharm": {
     "name": "#%%\n"
    }
   },
   "source": [
    "from numpy import loadtxt\n",
    "def load_pre_trained_mnist():\n",
    "  W1 = torch.from_numpy(loadtxt('https://raw.githubusercontent.com/humbertordrgs/DL_T_1/develop/resources/params/W1.txt')).float()\n",
    "  W2 = torch.from_numpy(loadtxt('https://raw.githubusercontent.com/humbertordrgs/DL_T_1/develop/resources/params/W2.txt')).float()\n",
    "  U = torch.from_numpy(loadtxt('https://raw.githubusercontent.com/humbertordrgs/DL_T_1/develop/resources/params/U.txt')).float()\n",
    "  b1 = torch.from_numpy(loadtxt('https://raw.githubusercontent.com/humbertordrgs/DL_T_1/develop/resources/params/b1.txt')).float()\n",
    "  b2 = torch.from_numpy(loadtxt('https://raw.githubusercontent.com/humbertordrgs/DL_T_1/develop/resources/params/b2.txt')).float()\n",
    "  c = torch.from_numpy(loadtxt('https://raw.githubusercontent.com/humbertordrgs/DL_T_1/develop/resources/params/c.txt')).float()\n",
    "\n",
    "  return [(W1,b1),(W2,b2),(U,c)]"
   ],
   "execution_count": null,
   "outputs": []
  },
  {
   "cell_type": "markdown",
   "metadata": {
    "id": "WWRa68ZFMIyr",
    "pycharm": {
     "name": "#%% md\n"
    }
   },
   "source": [
    "Now We are going to use the `initial_weights` parameter to initialize our network with pre_trained values\n",
    "for a specific `fixed` network architecture.\n",
    "\n",
    "The structure of the network to be used is the following:\n",
    "* `784` Features in the input layer.\n",
    "* `32`, `16` Neurons in each hidden layer.\n",
    "* `10` Neurons in the output layer.\n",
    "* `Relu` as activation function.\n",
    "* `softmax` as output function."
   ]
  },
  {
   "cell_type": "code",
   "metadata": {
    "id": "a-SaIzRoMMoc",
    "pycharm": {
     "name": "#%%\n"
    }
   },
   "source": [
    "# loading pre-trained values\n",
    "pre_trained_params = load_pre_trained_mnist()\n",
    "model = FFNN(784,[32,16],[relu,relu,softmax],10,initial_weights=pre_trained_params)\n",
    "\n",
    "# Uncomment to try model with random initial weights\n",
    "# model = FFNN(784,[32,16],[relu,relu,softmax],10)"
   ],
   "execution_count": null,
   "outputs": []
  },
  {
   "cell_type": "markdown",
   "metadata": {
    "id": "i1cZFU8rMNr1",
    "pycharm": {
     "name": "#%% md\n"
    }
   },
   "source": [
    "* ### Passing random example through the network"
   ]
  },
  {
   "cell_type": "code",
   "metadata": {
    "id": "mL49_0ZAMRd_",
    "outputId": "aefaeddc-1e64-4d5a-81bd-2f5f2d624142",
    "colab": {
     "base_uri": "https://localhost:8080/",
     "height": 176
    },
    "pycharm": {
     "name": "#%%\n"
    }
   },
   "source": [
    "import random\n",
    "\n",
    "T, l = dataset[random.randint(0,len(dataset))]\n",
    "inp = T.view(1, 28*28)\n",
    "plot_examples([(T,torch.argmax(model(inp)).item())])"
   ],
   "execution_count": null,
   "outputs": [
    {
     "output_type": "display_data",
     "data": {
      "image/png": "[encoded data removed]",
      "text/plain": [
       "<Figure size 144x216 with 1 Axes>"
      ]
     },
     "metadata": {
      "tags": [],
      "needs_background": "light"
     }
    }
   ]
  },
  {
   "cell_type": "markdown",
   "metadata": {
    "id": "wGmPIOyMH4ao",
    "pycharm": {
     "name": "#%% md\n"
    }
   },
   "source": [
    "* ### Procesing entire dataset and analyzing results"
   ]
  },
  {
   "cell_type": "markdown",
   "metadata": {
    "id": "EKXqo4FpX2Id"
   },
   "source": [
    "### Corrección red"
   ]
  },
  {
   "cell_type": "code",
   "metadata": {
    "id": "xNyZJK4wH7HF"
   },
   "source": [
    "from sklearn.metrics import confusion_matrix\n",
    "def process_metrics(expected_output, estimated_output, wrong_answers):\n",
    "\n",
    "  accuracy = 100 * float(torch.sum(expected_output == estimated_output)) / float(expected_output.size()[0])\n",
    "  print(\"#######################METRICS#######################\\n\")\n",
    "  print(f\"Accuracy: {accuracy:.2f}%\")\n",
    "  expected_output,estimated_output = expected_output.cpu(),estimated_output.cpu()\n",
    "  result_matrix = confusion_matrix(expected_output,estimated_output)\n",
    "  print(f\"Confusion Matrix: \\n\\n{result_matrix}\\n\")\n",
    "  print(\"Total Errors per class:\")\n",
    "  for i in range(len(result_matrix)):\n",
    "    print(f\"{i}: {sum([result_matrix[j][i] for j in range(len(result_matrix)) if j != i])}\")\n",
    "  print(f\"First 5 Errors found: \")\n",
    "  plot_examples(wrong_answers)"
   ],
   "execution_count": null,
   "outputs": []
  },
  {
   "cell_type": "code",
   "metadata": {
    "id": "OlscBZSzH8_S"
   },
   "source": [
    "from torch.utils.data import Subset, DataLoader\n",
    "def calc_metrics(model, dataset, batch_size=100, device='cuda'):\n",
    "  data_iterator = DataLoader(dataset, batch_size=batch_size)\n",
    "  model.to(device)\n",
    "\n",
    "  # the idea of these accumulated data in to be able to calculate the whole confusion_matrix\n",
    "  # could be easily replace with something like acc += torch.sun(output == cls)\n",
    "  # if the accuracy is the only desired metric\n",
    "  accumulated_output = torch.tensor([],device=device).long()\n",
    "  accumulated_cls = torch.tensor([],device=device).long()\n",
    "  wrong_answers = []\n",
    "  for inputs, cls in data_iterator:\n",
    "    inputs = inputs.view(min(batch_size,inputs.size()[0]) ,28 * 28).to(device)\n",
    "    cls = cls.to(device)\n",
    "    output = torch.argmax(model(inputs),dim=1)\n",
    "    accumulated_output = torch.cat((accumulated_output, output))\n",
    "    accumulated_cls = torch.cat((accumulated_cls,cls))\n",
    "\n",
    "    # Storing only the first 5 errors the idea is not execute this code always\n",
    "    for i,e in enumerate(output == cls):\n",
    "      if len(wrong_answers) == 5:\n",
    "        break\n",
    "      if not e:\n",
    "        wrong_answers.append((inputs[i],output[i].item()))\n",
    "\n",
    "  return process_metrics(accumulated_cls,accumulated_output,wrong_answers)"
   ],
   "execution_count": 47,
   "outputs": []
  },
  {
   "cell_type": "code",
   "metadata": {
    "id": "rmozLHHRIDcJ",
    "outputId": "d5bddfd4-b0f8-4025-db4b-38d7086550c5",
    "colab": {
     "base_uri": "https://localhost:8080/",
     "height": 1000
    }
   },
   "source": [
    "calc_metrics(model,dataset)"
   ],
   "execution_count": null,
   "outputs": [
    {
     "output_type": "stream",
     "text": [
      "#######################METRICS#######################\n",
      "\n",
      "Accuracy: 96.12%\n",
      "Confusion Matrix: \n",
      "\n",
      "[[ 959    0    3    2    1    6    3    2    2    2]\n",
      " [   0 1119    4    0    0    0    4    1    7    0]\n",
      " [   4    1 1001    7    3    0    3    5    7    1]\n",
      " [   0    0    9  971    0    5    0    8   12    5]\n",
      " [   0    0    4    0  954    0    5    1    2   16]\n",
      " [   5    0    0   19    2  841    7    1   12    5]\n",
      " [   4    3    4    0   15    7  921    0    4    0]\n",
      " [   0    6   16    5    6    1    0  975    2   17]\n",
      " [   4    2    6   14    7   10    1    3  919    8]\n",
      " [   5    6    2   10   16    3    0    6    9  952]]\n",
      "\n",
      "Total Errors per class:\n",
      "0: 22\n",
      "1: 18\n",
      "2: 48\n",
      "3: 57\n",
      "4: 50\n",
      "5: 32\n",
      "6: 23\n",
      "7: 27\n",
      "8: 57\n",
      "9: 54\n",
      "First 5 Errors found: \n"
     ],
     "name": "stdout"
    },
    {
     "output_type": "display_data",
     "data": {
      "image/png": "[encoded data removed]",
      "text/plain": [
       "<Figure size 144x1080 with 5 Axes>"
      ]
     },
     "metadata": {
      "tags": [],
      "needs_background": "light"
     }
    }
   ]
  },
  {
   "cell_type": "markdown",
   "metadata": {
    "id": "R-ixRNXFJ92s"
   },
   "source": [
    "Taking a look at the confusion matrix generated above, we can find not only in which specific cases the model\n",
    "is giving an incorrect answer, also we are able to see which classes are confusing with each other"
   ]
  },
  {
   "cell_type": "markdown",
   "metadata": {
    "id": "LXVmOtJFKCdH"
   },
   "source": [
    "* ### Running additional tests:"
   ]
  },
  {
   "cell_type": "code",
   "metadata": {
    "id": "JMcid2LRXzrg",
    "outputId": "bc2074dc-627c-4115-b8a8-cfde2a452455",
    "colab": {
     "base_uri": "https://localhost:8080/",
     "height": 51
    }
   },
   "source": [
    "indices = corrector.get_test_data(homework=1, question=\"network\", test=1, token=token)\n",
    "test_set = Subset(dataset, indices)\n",
    "\n",
    "# Re generating our model with fixed device\n",
    "your_network = FFNN(784,[32,16],[relu,relu,softmax],10,initial_weights=pre_trained_params).cuda()\n",
    "X = list(DataLoader(test_set, batch_size=len(test_set)))[0][0].view(-1, 28*28).cuda()\n",
    "result = torch.argmax(your_network(X), dim=1)\n",
    "corrector.sumbit(homework=1, question=\"network\", test=1, token=token, answer=result)"
   ],
   "execution_count": 50,
   "outputs": [
    {
     "output_type": "stream",
     "text": [
      "Using cached test data\n",
      "Correct Test!\n"
     ],
     "name": "stdout"
    }
   ]
  },
  {
   "cell_type": "markdown",
   "metadata": {
    "id": "beF870pABHKe"
   },
   "source": [
    "* ### Using custom cases to test the network\n"
   ]
  },
  {
   "cell_type": "code",
   "metadata": {
    "id": "KOqCJx4LBG1W"
   },
   "source": [
    "custom_tests_data = ImageFolder(\n",
    "        root=\"tests/\",\n",
    "        transform=Compose([\n",
    "            # transformamos las imagenes a blanco y negro\n",
    "            Grayscale(num_output_channels=1),\n",
    "            # achicamos la imagen de 280x280 a 28x28 (mas facil dibujar en 280)\n",
    "            Resize((28, 28), interpolation=2),\n",
    "            # a tensor de pytorch\n",
    "            ToTensor()\n",
    "        ])\n",
    "    )\n",
    "\n",
    "custom_tests_data.target_transform = lambda _id: int(\n",
    "  list(\n",
    "    custom_tests_data.class_to_idx.keys()\n",
    "  )[list(custom_tests_data.class_to_idx.values()).index(_id)]\n",
    ")"
   ],
   "execution_count": 51,
   "outputs": []
  },
  {
   "cell_type": "code",
   "execution_count": null,
   "outputs": [],
   "source": [
    "calc_metrics(model,custom_tests_data)"
   ],
   "metadata": {
    "collapsed": false,
    "pycharm": {
     "name": "#%%\n"
    }
   }
  },
  {
   "cell_type": "code",
   "metadata": {
    "id": "lML8cqmwNxB_",
    "outputId": "2914874b-6b9e-4991-cb55-b1507ccd37c8",
    "colab": {
     "base_uri": "https://localhost:8080/",
     "height": 1000
    }
   },
   "source": [],
   "execution_count": 52,
   "outputs": [
    {
     "output_type": "stream",
     "text": [
      "#######################METRICS#######################\n",
      "\n",
      "Accuracy: 0.00%\n",
      "Confusion Matrix: \n",
      "\n",
      "[[0 1 3 1 1 1 1 1]\n",
      " [0 0 0 0 0 0 0 0]\n",
      " [0 0 0 0 0 0 0 0]\n",
      " [0 0 0 0 0 0 0 0]\n",
      " [0 0 0 0 0 0 0 0]\n",
      " [0 0 0 0 0 0 0 0]\n",
      " [0 0 0 0 0 0 0 0]\n",
      " [0 0 0 0 0 0 0 0]]\n",
      "\n",
      "Total Errors per class:\n",
      "0: 0\n",
      "1: 1\n",
      "2: 3\n",
      "3: 1\n",
      "4: 1\n",
      "5: 1\n",
      "6: 1\n",
      "7: 1\n",
      "First 5 Errors found: \n"
     ],
     "name": "stdout"
    },
    {
     "output_type": "display_data",
     "data": {
      "image/png": "[encoded data removed]",
      "text/plain": [
       "<Figure size 144x1080 with 5 Axes>"
      ]
     },
     "metadata": {
      "tags": [],
      "needs_background": "light"
     }
    }
   ]
  },
  {
   "cell_type": "code",
   "metadata": {
    "id": "bXlUKErlOB7G"
   },
   "source": [
    ""
   ],
   "execution_count": null,
   "outputs": []
  }
 ]
}