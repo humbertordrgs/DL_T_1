{
 "nbformat": 4,
 "nbformat_minor": 0,
 "metadata": {
  "colab": {
   "name": "Respuestas_Tarea_1_CC6402_2020",
   "provenance": [],
   "collapsed_sections": []
  },
  "kernelspec": {
   "name": "pycharm-a7f13e59",
   "language": "python",
   "display_name": "PyCharm (DL_T_1)"
  }
 },
 "cells": [
  {
   "cell_type": "markdown",
   "metadata": {
    "id": "iCszeuRk0NuH"
   },
   "source": [
    "## Task 1: Activation Functions and FF pre-trained Neural Network <br/> CC6204 Deep Learning, Universidad de Chile.\n",
    "#### Name: Humberto Rodrigues"
   ]
  },
  {
   "cell_type": "code",
   "metadata": {
    "id": "8QQB7jV7LMEo"
   },
   "source": [
    "import torch\n",
    "import torch.nn as nn\n",
    "# Autocorrect utility\n",
    "!pip install \"git+https://github.com/dccuchile/CC6204.git@master#egg=cc6204&subdirectory=autocorrect\""
   ],
   "execution_count": 32,
   "outputs": [
    {
     "name": "stdout",
     "output_type": "stream",
     "text": [
      "Requirement already satisfied: cc6204 from git+https://github.com/dccuchile/CC6204.git@master#egg=cc6204&subdirectory=autocorrect in /home/humberto/anaconda3/envs/DL_T_1_3_7/lib/python3.7/site-packages (0.3.2)\r\n",
      "Requirement already satisfied: torch in /home/humberto/anaconda3/envs/DL_T_1_3_7/lib/python3.7/site-packages (from cc6204) (1.3.1)\r\n",
      "Requirement already satisfied: requests in /home/humberto/anaconda3/envs/DL_T_1_3_7/lib/python3.7/site-packages (from cc6204) (2.24.0)\r\n",
      "Requirement already satisfied: numpy in /home/humberto/anaconda3/envs/DL_T_1_3_7/lib/python3.7/site-packages (from cc6204) (1.19.1)\r\n",
      "Requirement already satisfied: urllib3!=1.25.0,!=1.25.1,<1.26,>=1.21.1 in /home/humberto/anaconda3/envs/DL_T_1_3_7/lib/python3.7/site-packages (from requests->cc6204) (1.25.10)\r\n",
      "Requirement already satisfied: chardet<4,>=3.0.2 in /home/humberto/anaconda3/envs/DL_T_1_3_7/lib/python3.7/site-packages (from requests->cc6204) (3.0.4)\r\n",
      "Requirement already satisfied: idna<3,>=2.5 in /home/humberto/anaconda3/envs/DL_T_1_3_7/lib/python3.7/site-packages (from requests->cc6204) (2.10)\r\n",
      "Requirement already satisfied: certifi>=2017.4.17 in /home/humberto/anaconda3/envs/DL_T_1_3_7/lib/python3.7/site-packages (from requests->cc6204) (2020.6.20)\r\n"
     ]
    }
   ]
  },
  {
   "cell_type": "code",
   "metadata": {
    "id": "49OevYJkMdgW"
   },
   "source": [
    "# Importing Autocorrect\n",
    "from cc6204 import AutoCorrect\n",
    "corrector = AutoCorrect(host=\"cc6204.dcc.uchile.cl\",port=\"443\")\n",
    "token = \"]ye/Ox;nsz\""
   ],
   "execution_count": 3,
   "outputs": [
    {
     "name": "stdout",
     "output_type": "stream",
     "text": [
      "Connection stablished\n"
     ]
    }
   ]
  },
  {
   "cell_type": "markdown",
   "metadata": {
    "id": "Uq9u0IfT0VRp"
   },
   "source": [
    "## Part 1: Non-Linear Activation and output Functions"
   ]
  },
  {
   "cell_type": "markdown",
   "metadata": {
    "id": "DMw80P8o0qrJ"
   },
   "source": [
    "* ### Non-Linear Activation Functions:"
   ]
  },
  {
   "cell_type": "code",
   "metadata": {
    "id": "tDhcNbNT0YNr"
   },
   "source": [
    "def sig(T):\n",
    "  return torch.reciprocal(1 + torch.exp(-1 * T))\n",
    "\n",
    "def tanh(T):\n",
    "  E = torch.exp(T)\n",
    "  e = torch.exp(-1 * T)\n",
    "  return (E - e) * torch.reciprocal(E + e)\n",
    "\n",
    "def relu(T):\n",
    "  return torch.max(T,torch.zeros(T.size()))\n",
    "\n",
    "def swish(T, beta=1.0):\n",
    "  return T * sig(beta * T)\n",
    "\n",
    "def celu(T, alpha=1.0):\n",
    "  zero_T = torch.zeros(T.size())\n",
    "  return torch.max(T,zero_T) + torch.min(alpha * (torch.exp(T/alpha) - 1),zero_T)"
   ],
   "execution_count": 4,
   "outputs": []
  },
  {
   "cell_type": "code",
   "metadata": {
    "id": "s0SmO2x7M1pn"
   },
   "source": [
    "# Downloading external test data for each activation function\n",
    "test_relu = corrector.get_test_data(homework=1, question=\"1a\", test=1, token=token)\n",
    "test_swish, swish_par = corrector.get_test_data(homework=1, question=\"1a\", test=2, token=token)\n",
    "test_celu, celu_par = corrector.get_test_data(homework=1, question=\"1a\", test=3, token=token)\n",
    "\n",
    "corrector.sumbit(homework=1, question=\"1a\", test=1, token=token, answer=relu(torch.tensor(test_relu)))\n",
    "corrector.sumbit(homework=1, question=\"1a\", test=2, token=token, answer=swish(torch.tensor(test_swish), swish_par))\n",
    "corrector.sumbit(homework=1, question=\"1a\", test=3, token=token, answer=celu(torch.tensor(test_celu), celu_par))"
   ],
   "execution_count": 5,
   "outputs": [
    {
     "name": "stdout",
     "output_type": "stream",
     "text": [
      "Correct Test!\n",
      "Correct Test!\n",
      "Correct Test!\n"
     ]
    }
   ]
  },
  {
   "cell_type": "markdown",
   "metadata": {
    "id": "e_0dTh7l1bas"
   },
   "source": [
    "* ### Output Function, Softmax:"
   ]
  },
  {
   "cell_type": "markdown",
   "metadata": {
    "id": "NjIyp2nL1le5",
    "pycharm": {
     "name": "#%% md\n"
    }
   },
   "source": [
    "The first thing is that We need to define a computational stable variation of the `softmax` but avoiding changes in the\n",
    "result. A pretty common solution for this problem is to find the `max` value inside the tensor and subtracts it to each\n",
    "element of the collection`. Applying this method changes the definition of the softmax` to this:\n",
    "\n",
    "$\\text{softmax}(x_1,\\ldots,x_n)$ is another collection $(s_1,\\ldots,s_n)$ where\n",
    "\\begin{equation}\n",
    "s_i = \\frac{e^{x_i - M}}{\\sum_{j=1}^{n}e^{x_j-M}}\n",
    "\\end{equation} being `M` the max value previously mentioned.\n",
    "\n",
    "The next step is to demonstrate that the addition of `M`  won't affect the results:\n",
    "\n",
    "Steps:\n",
    "* Applying exponent rules:\n",
    "\\begin{equation}\n",
    "s_i = \\frac{\\frac{e^{x_i}}{e^{M}}}{\\sum_{j=1}^{n}\\frac{e^{x_j}}{e^{M}}}\n",
    "\\end{equation}\n",
    "* We can extract the constant $\\frac{1}{e^{M}}$ from the summatory because there is no dependency:\n",
    "\\begin{equation}\n",
    "s_i = \\frac{\\frac{e^{x_i}}{e^{M}}}{\\frac{\\sum_{j=1}^{n}e^{x_j}}{e^{M}}}\n",
    "\\end{equation}\n",
    "\n",
    "* The next step is to apply the double `C` Rule for fractions:\n",
    "\\begin{equation}\n",
    "s_i = \\frac{e^{x_i}\\cdot e^{M}}{e^{M} \\cdot {\\sum_{j=1}^{n}e^{x_j}}}\n",
    "\\end{equation}\n",
    "\n",
    "* Finally the $e^{M}$ constants cancel each other and we obtain the original definition of the `softmax`:\n",
    "\\begin{equation}\n",
    "s_i = \\frac{e^{x_i}}{\\sum_{j=1}^{n}e^{x_j}}\n",
    "\\end{equation}\n"
   ]
  },
  {
   "cell_type": "code",
   "metadata": {
    "id": "jDg2sU7D1dIY"
   },
   "source": [
    "def softmax(T, dim=1, estable=True):\n",
    "  maxes = torch.max(T, dim, keepdim=True)[0] if estable else 0\n",
    "  x_exp = torch.exp(T-maxes)\n",
    "  x_exp_sum = torch.sum(x_exp, dim, keepdim=True)\n",
    "  return x_exp/x_exp_sum\n"
   ],
   "execution_count": 6,
   "outputs": []
  },
  {
   "cell_type": "code",
   "metadata": {
    "id": "4nJhjuGZXgkM"
   },
   "source": [
    "# Downloading external test data for output function\n",
    "test_softmax, _dim = corrector.get_test_data(homework=1, question=\"1b\", test=1, token=token)\n",
    "corrector.sumbit(homework=1, question=\"1b\", test=1, token=token, answer=softmax(torch.tensor(test_softmax), dim=_dim))"
   ],
   "execution_count": 7,
   "outputs": [
    {
     "name": "stdout",
     "output_type": "stream",
     "text": [
      "Correct Test!\n"
     ]
    }
   ]
  },
  {
   "cell_type": "markdown",
   "metadata": {
    "id": "662XLsDA9XXI"
   },
   "source": [
    "## Part 2: Building a Feed Forward Neural Network"
   ]
  },
  {
   "cell_type": "code",
   "metadata": {
    "id": "f_jeuYbv9WhK"
   },
   "source": [
    "class FFNN(torch.nn.Module):\n",
    "  def create_parameters(self, h_l, l_a, C, extra=None,initial_weights=None):\n",
    "    internal_layers = []\n",
    "    internal_biases = []\n",
    "    for i in range(0, len(h_l)-1):\n",
    "      if initial_weights:\n",
    "        # The structure with initial weights for the `lth` layer will be (W,b)\n",
    "        # We need to ensure that the dimensions of the data MATCH with the model\n",
    "        current_weights = initial_weights[i][0]\n",
    "        current_bias = initial_weights[i][1]\n",
    "        if len(current_weights) != h_l[i] or len(current_weights[0]) != h_l[i+1] or len(current_bias) != h_l[i+1]:\n",
    "          raise Exception(\"Dimension mismatch\")\n",
    "        else:\n",
    "          internal_layers.append(nn.Parameter(current_weights))\n",
    "          internal_biases.append(nn.Parameter(current_bias))\n",
    "      else:\n",
    "        internal_layers.append(nn.Parameter(torch.randn(h_l[i],h_l[i+1])))\n",
    "        internal_biases.append(nn.Parameter(torch.zeros(h_l[i+1])))\n",
    "\n",
    "    self.h_layers = nn.ParameterList(internal_layers)\n",
    "    self.biases = nn.ParameterList(internal_biases)\n",
    "    self.activation_functions = l_a[:-1]\n",
    "    self.extra_params = extra\n",
    "\n",
    "    # Output Layer, bias, and softmax (c)\n",
    "    if initial_weights:\n",
    "      # Is expected that the last position of `initial_weights` is (U,c)\n",
    "      output_weights = initial_weights[-1][0]\n",
    "      output_bias = initial_weights[-1][1]\n",
    "\n",
    "      if len(output_weights) != h_l[-1] or len(output_weights[0]) != C or len(output_bias) != C:\n",
    "          raise Exception(\"Dimension mismatch\")\n",
    "      else:\n",
    "        self.output_layer = nn.ParameterList([nn.Parameter(output_weights)])\n",
    "        self.output_bias = nn.ParameterList([nn.Parameter(output_bias)])\n",
    "    else:\n",
    "      self.output_layer = nn.ParameterList([nn.Parameter(torch.randn(h_l[-1],C))])\n",
    "      self.output_bias = nn.ParameterList([nn.Parameter(torch.zeros(C))])\n",
    "    self.output_function = l_a[-1]\n",
    "\n",
    "  def __init__(self, F, l_h, l_a, C, extra=None, initial_weights=None):\n",
    "    super(FFNN, self).__init__()\n",
    "\n",
    "    if len(l_h)+1 != len(l_a):\n",
    "      raise Exception(\"Dimension mismatch\")\n",
    "    if extra and len(extra) != len(l_a):\n",
    "      raise Exception(\"Dimension mismatch\")\n",
    "    if initial_weights and len(initial_weights) != (len(l_h) + 1):\n",
    "      raise Exception(\"Dimension mismatch\")\n",
    "\n",
    "    self.create_parameters([F]+l_h,l_a,C,extra,initial_weights)\n",
    "  \n",
    "  def summary(self):\n",
    "    print(f\"#######MODEL SUMMARY#######\\n\\n{self}\\n\")\n",
    "    print(f\"Activation Functions{[f.__name__ for f in self.activation_functions+[self.output_function]]}\\n\")\n",
    "    print(f\"Total trainable Parameters: { sum(p.numel() for p in self.parameters() if p.requires_grad)}\")\n",
    "    print(f\"Total Parameters: { sum(p.numel() for p in self.parameters())}\\n\")\n",
    "    print(f\"########SUMMARY END########\\n\\n\")\n",
    "  \n",
    "  def forward(self, x):\n",
    "    for i in range(0, len(self.h_layers)):\n",
    "      # Validation to retrieve the possible extra params for the i_th activation function\n",
    "      current_extras = self.extra_params[i] if self.extra_params and self.extra_params[i] else {}\n",
    "\n",
    "      # H = x * W + b\n",
    "      x =  self.activation_functions[i](torch.matmul(x,self.h_layers[i]) + self.biases[i],**current_extras)\n",
    "\n",
    "    # Validation to retrieve the possible extra params for the output activation function\n",
    "    output_extras = self.extra_params[-1] if self.extra_params and self.extra_params[i] else {}\n",
    "\n",
    "    # y' = x * U + c\n",
    "    x = self.output_function(torch.matmul(x,self.output_layer[0]) + self.output_bias[0],**output_extras)\n",
    "    return x\n"
   ],
   "execution_count": 8,
   "outputs": []
  },
  {
   "cell_type": "markdown",
   "metadata": {
    "id": "Bgf5Xx-34Pa1",
    "pycharm": {
     "name": "#%% md\n"
    }
   },
   "source": [
    "We test creating an instance of our `FFNN` it is important to notice the format for the `extra` param.\n",
    "`extra` will be an array where the i_th position will have a dictionary that will contain all the additional parameters\n",
    "We want to use in the i_th activation function. The dictionary `key` is more verbose and help to understand the meaning\n",
    "of the value we are adding."
   ]
  },
  {
   "cell_type": "code",
   "metadata": {
    "id": "2zppplXd4QXa"
   },
   "source": [
    "# for activation functions with multiple custom params, the ** operator will spread the dictionary and easily pass them\n",
    "demo_network = FFNN(2,[3,4],[relu,sig,softmax],5,extra=[None,None,{\"dim\":1, \"estable\": False}])\n",
    "demo_network.summary()"
   ],
   "execution_count": 9,
   "outputs": [
    {
     "name": "stdout",
     "output_type": "stream",
     "text": [
      "#######MODEL SUMMARY#######\n",
      "\n",
      "FFNN(\n",
      "  (h_layers): ParameterList(\n",
      "      (0): Parameter containing: [torch.FloatTensor of size 2x3]\n",
      "      (1): Parameter containing: [torch.FloatTensor of size 3x4]\n",
      "  )\n",
      "  (biases): ParameterList(\n",
      "      (0): Parameter containing: [torch.FloatTensor of size 3]\n",
      "      (1): Parameter containing: [torch.FloatTensor of size 4]\n",
      "  )\n",
      "  (output_layer): ParameterList(  (0): Parameter containing: [torch.FloatTensor of size 4x5])\n",
      "  (output_bias): ParameterList(  (0): Parameter containing: [torch.FloatTensor of size 5])\n",
      ")\n",
      "\n",
      "Activation Functions['relu', 'sig', 'softmax']\n",
      "\n",
      "Total trainable Parameters: 50\n",
      "Total Parameters: 50\n",
      "\n",
      "########SUMMARY END########\n",
      "\n",
      "\n"
     ]
    }
   ]
  },
  {
   "cell_type": "code",
   "execution_count": 10,
   "outputs": [
    {
     "data": {
      "text/plain": "FFNN(\n  (h_layers): ParameterList(\n      (0): Parameter containing: [torch.FloatTensor of size 2x3]\n      (1): Parameter containing: [torch.FloatTensor of size 3x4]\n  )\n  (biases): ParameterList(\n      (0): Parameter containing: [torch.FloatTensor of size 3]\n      (1): Parameter containing: [torch.FloatTensor of size 4]\n  )\n  (output_layer): ParameterList(  (0): Parameter containing: [torch.FloatTensor of size 4x5])\n  (output_bias): ParameterList(  (0): Parameter containing: [torch.FloatTensor of size 5])\n)"
     },
     "execution_count": 10,
     "metadata": {},
     "output_type": "execute_result"
    }
   ],
   "source": [
    "# Test moving our instance between devices\n",
    "demo_network.to(\"cpu\")"
   ],
   "metadata": {
    "collapsed": false,
    "pycharm": {
     "name": "#%%\n"
    }
   }
  },
  {
   "cell_type": "code",
   "execution_count": 370,
   "outputs": [
    {
     "ename": "AssertionError",
     "evalue": "\nFound no NVIDIA driver on your system. Please check that you\nhave an NVIDIA GPU and installed a driver from\nhttp://www.nvidia.com/Download/index.aspx",
     "output_type": "error",
     "traceback": [
      "\u001B[0;31m---------------------------------------------------------------------------\u001B[0m",
      "\u001B[0;31mAssertionError\u001B[0m                            Traceback (most recent call last)",
      "\u001B[0;32m<ipython-input-370-d9863912fcc5>\u001B[0m in \u001B[0;36m<module>\u001B[0;34m\u001B[0m\n\u001B[1;32m      1\u001B[0m \u001B[0;31m# Test moving our instance between devices\u001B[0m\u001B[0;34m\u001B[0m\u001B[0;34m\u001B[0m\u001B[0;34m\u001B[0m\u001B[0m\n\u001B[0;32m----> 2\u001B[0;31m \u001B[0mdemo_network\u001B[0m\u001B[0;34m.\u001B[0m\u001B[0mto\u001B[0m\u001B[0;34m(\u001B[0m\u001B[0;34m\"cuda\"\u001B[0m\u001B[0;34m)\u001B[0m\u001B[0;34m\u001B[0m\u001B[0;34m\u001B[0m\u001B[0m\n\u001B[0m\u001B[1;32m      3\u001B[0m \u001B[0;34m\u001B[0m\u001B[0m\n",
      "\u001B[0;32m~/anaconda3/envs/DL_T_1_3_7/lib/python3.7/site-packages/torch/nn/modules/module.py\u001B[0m in \u001B[0;36mto\u001B[0;34m(self, *args, **kwargs)\u001B[0m\n\u001B[1;32m    424\u001B[0m             \u001B[0;32mreturn\u001B[0m \u001B[0mt\u001B[0m\u001B[0;34m.\u001B[0m\u001B[0mto\u001B[0m\u001B[0;34m(\u001B[0m\u001B[0mdevice\u001B[0m\u001B[0;34m,\u001B[0m \u001B[0mdtype\u001B[0m \u001B[0;32mif\u001B[0m \u001B[0mt\u001B[0m\u001B[0;34m.\u001B[0m\u001B[0mis_floating_point\u001B[0m\u001B[0;34m(\u001B[0m\u001B[0;34m)\u001B[0m \u001B[0;32melse\u001B[0m \u001B[0;32mNone\u001B[0m\u001B[0;34m,\u001B[0m \u001B[0mnon_blocking\u001B[0m\u001B[0;34m)\u001B[0m\u001B[0;34m\u001B[0m\u001B[0;34m\u001B[0m\u001B[0m\n\u001B[1;32m    425\u001B[0m \u001B[0;34m\u001B[0m\u001B[0m\n\u001B[0;32m--> 426\u001B[0;31m         \u001B[0;32mreturn\u001B[0m \u001B[0mself\u001B[0m\u001B[0;34m.\u001B[0m\u001B[0m_apply\u001B[0m\u001B[0;34m(\u001B[0m\u001B[0mconvert\u001B[0m\u001B[0;34m)\u001B[0m\u001B[0;34m\u001B[0m\u001B[0;34m\u001B[0m\u001B[0m\n\u001B[0m\u001B[1;32m    427\u001B[0m \u001B[0;34m\u001B[0m\u001B[0m\n\u001B[1;32m    428\u001B[0m     \u001B[0;32mdef\u001B[0m \u001B[0mregister_backward_hook\u001B[0m\u001B[0;34m(\u001B[0m\u001B[0mself\u001B[0m\u001B[0;34m,\u001B[0m \u001B[0mhook\u001B[0m\u001B[0;34m)\u001B[0m\u001B[0;34m:\u001B[0m\u001B[0;34m\u001B[0m\u001B[0;34m\u001B[0m\u001B[0m\n",
      "\u001B[0;32m~/anaconda3/envs/DL_T_1_3_7/lib/python3.7/site-packages/torch/nn/modules/module.py\u001B[0m in \u001B[0;36m_apply\u001B[0;34m(self, fn)\u001B[0m\n\u001B[1;32m    200\u001B[0m     \u001B[0;32mdef\u001B[0m \u001B[0m_apply\u001B[0m\u001B[0;34m(\u001B[0m\u001B[0mself\u001B[0m\u001B[0;34m,\u001B[0m \u001B[0mfn\u001B[0m\u001B[0;34m)\u001B[0m\u001B[0;34m:\u001B[0m\u001B[0;34m\u001B[0m\u001B[0;34m\u001B[0m\u001B[0m\n\u001B[1;32m    201\u001B[0m         \u001B[0;32mfor\u001B[0m \u001B[0mmodule\u001B[0m \u001B[0;32min\u001B[0m \u001B[0mself\u001B[0m\u001B[0;34m.\u001B[0m\u001B[0mchildren\u001B[0m\u001B[0;34m(\u001B[0m\u001B[0;34m)\u001B[0m\u001B[0;34m:\u001B[0m\u001B[0;34m\u001B[0m\u001B[0;34m\u001B[0m\u001B[0m\n\u001B[0;32m--> 202\u001B[0;31m             \u001B[0mmodule\u001B[0m\u001B[0;34m.\u001B[0m\u001B[0m_apply\u001B[0m\u001B[0;34m(\u001B[0m\u001B[0mfn\u001B[0m\u001B[0;34m)\u001B[0m\u001B[0;34m\u001B[0m\u001B[0;34m\u001B[0m\u001B[0m\n\u001B[0m\u001B[1;32m    203\u001B[0m \u001B[0;34m\u001B[0m\u001B[0m\n\u001B[1;32m    204\u001B[0m         \u001B[0;32mdef\u001B[0m \u001B[0mcompute_should_use_set_data\u001B[0m\u001B[0;34m(\u001B[0m\u001B[0mtensor\u001B[0m\u001B[0;34m,\u001B[0m \u001B[0mtensor_applied\u001B[0m\u001B[0;34m)\u001B[0m\u001B[0;34m:\u001B[0m\u001B[0;34m\u001B[0m\u001B[0;34m\u001B[0m\u001B[0m\n",
      "\u001B[0;32m~/anaconda3/envs/DL_T_1_3_7/lib/python3.7/site-packages/torch/nn/modules/module.py\u001B[0m in \u001B[0;36m_apply\u001B[0;34m(self, fn)\u001B[0m\n\u001B[1;32m    222\u001B[0m                 \u001B[0;31m# `with torch.no_grad():`\u001B[0m\u001B[0;34m\u001B[0m\u001B[0;34m\u001B[0m\u001B[0;34m\u001B[0m\u001B[0m\n\u001B[1;32m    223\u001B[0m                 \u001B[0;32mwith\u001B[0m \u001B[0mtorch\u001B[0m\u001B[0;34m.\u001B[0m\u001B[0mno_grad\u001B[0m\u001B[0;34m(\u001B[0m\u001B[0;34m)\u001B[0m\u001B[0;34m:\u001B[0m\u001B[0;34m\u001B[0m\u001B[0;34m\u001B[0m\u001B[0m\n\u001B[0;32m--> 224\u001B[0;31m                     \u001B[0mparam_applied\u001B[0m \u001B[0;34m=\u001B[0m \u001B[0mfn\u001B[0m\u001B[0;34m(\u001B[0m\u001B[0mparam\u001B[0m\u001B[0;34m)\u001B[0m\u001B[0;34m\u001B[0m\u001B[0;34m\u001B[0m\u001B[0m\n\u001B[0m\u001B[1;32m    225\u001B[0m                 \u001B[0mshould_use_set_data\u001B[0m \u001B[0;34m=\u001B[0m \u001B[0mcompute_should_use_set_data\u001B[0m\u001B[0;34m(\u001B[0m\u001B[0mparam\u001B[0m\u001B[0;34m,\u001B[0m \u001B[0mparam_applied\u001B[0m\u001B[0;34m)\u001B[0m\u001B[0;34m\u001B[0m\u001B[0;34m\u001B[0m\u001B[0m\n\u001B[1;32m    226\u001B[0m                 \u001B[0;32mif\u001B[0m \u001B[0mshould_use_set_data\u001B[0m\u001B[0;34m:\u001B[0m\u001B[0;34m\u001B[0m\u001B[0;34m\u001B[0m\u001B[0m\n",
      "\u001B[0;32m~/anaconda3/envs/DL_T_1_3_7/lib/python3.7/site-packages/torch/nn/modules/module.py\u001B[0m in \u001B[0;36mconvert\u001B[0;34m(t)\u001B[0m\n\u001B[1;32m    422\u001B[0m \u001B[0;34m\u001B[0m\u001B[0m\n\u001B[1;32m    423\u001B[0m         \u001B[0;32mdef\u001B[0m \u001B[0mconvert\u001B[0m\u001B[0;34m(\u001B[0m\u001B[0mt\u001B[0m\u001B[0;34m)\u001B[0m\u001B[0;34m:\u001B[0m\u001B[0;34m\u001B[0m\u001B[0;34m\u001B[0m\u001B[0m\n\u001B[0;32m--> 424\u001B[0;31m             \u001B[0;32mreturn\u001B[0m \u001B[0mt\u001B[0m\u001B[0;34m.\u001B[0m\u001B[0mto\u001B[0m\u001B[0;34m(\u001B[0m\u001B[0mdevice\u001B[0m\u001B[0;34m,\u001B[0m \u001B[0mdtype\u001B[0m \u001B[0;32mif\u001B[0m \u001B[0mt\u001B[0m\u001B[0;34m.\u001B[0m\u001B[0mis_floating_point\u001B[0m\u001B[0;34m(\u001B[0m\u001B[0;34m)\u001B[0m \u001B[0;32melse\u001B[0m \u001B[0;32mNone\u001B[0m\u001B[0;34m,\u001B[0m \u001B[0mnon_blocking\u001B[0m\u001B[0;34m)\u001B[0m\u001B[0;34m\u001B[0m\u001B[0;34m\u001B[0m\u001B[0m\n\u001B[0m\u001B[1;32m    425\u001B[0m \u001B[0;34m\u001B[0m\u001B[0m\n\u001B[1;32m    426\u001B[0m         \u001B[0;32mreturn\u001B[0m \u001B[0mself\u001B[0m\u001B[0;34m.\u001B[0m\u001B[0m_apply\u001B[0m\u001B[0;34m(\u001B[0m\u001B[0mconvert\u001B[0m\u001B[0;34m)\u001B[0m\u001B[0;34m\u001B[0m\u001B[0;34m\u001B[0m\u001B[0m\n",
      "\u001B[0;32m~/anaconda3/envs/DL_T_1_3_7/lib/python3.7/site-packages/torch/cuda/__init__.py\u001B[0m in \u001B[0;36m_lazy_init\u001B[0;34m()\u001B[0m\n\u001B[1;32m    190\u001B[0m             raise RuntimeError(\n\u001B[1;32m    191\u001B[0m                 \"Cannot re-initialize CUDA in forked subprocess. \" + msg)\n\u001B[0;32m--> 192\u001B[0;31m         \u001B[0m_check_driver\u001B[0m\u001B[0;34m(\u001B[0m\u001B[0;34m)\u001B[0m\u001B[0;34m\u001B[0m\u001B[0;34m\u001B[0m\u001B[0m\n\u001B[0m\u001B[1;32m    193\u001B[0m         \u001B[0mtorch\u001B[0m\u001B[0;34m.\u001B[0m\u001B[0m_C\u001B[0m\u001B[0;34m.\u001B[0m\u001B[0m_cuda_init\u001B[0m\u001B[0;34m(\u001B[0m\u001B[0;34m)\u001B[0m\u001B[0;34m\u001B[0m\u001B[0;34m\u001B[0m\u001B[0m\n\u001B[1;32m    194\u001B[0m         \u001B[0m_cudart\u001B[0m \u001B[0;34m=\u001B[0m \u001B[0m_load_cudart\u001B[0m\u001B[0;34m(\u001B[0m\u001B[0;34m)\u001B[0m\u001B[0;34m\u001B[0m\u001B[0;34m\u001B[0m\u001B[0m\n",
      "\u001B[0;32m~/anaconda3/envs/DL_T_1_3_7/lib/python3.7/site-packages/torch/cuda/__init__.py\u001B[0m in \u001B[0;36m_check_driver\u001B[0;34m()\u001B[0m\n\u001B[1;32m    100\u001B[0m \u001B[0mFound\u001B[0m \u001B[0mno\u001B[0m \u001B[0mNVIDIA\u001B[0m \u001B[0mdriver\u001B[0m \u001B[0mon\u001B[0m \u001B[0myour\u001B[0m \u001B[0msystem\u001B[0m\u001B[0;34m.\u001B[0m \u001B[0mPlease\u001B[0m \u001B[0mcheck\u001B[0m \u001B[0mthat\u001B[0m \u001B[0myou\u001B[0m\u001B[0;34m\u001B[0m\u001B[0;34m\u001B[0m\u001B[0m\n\u001B[1;32m    101\u001B[0m \u001B[0mhave\u001B[0m \u001B[0man\u001B[0m \u001B[0mNVIDIA\u001B[0m \u001B[0mGPU\u001B[0m \u001B[0;32mand\u001B[0m \u001B[0minstalled\u001B[0m \u001B[0ma\u001B[0m \u001B[0mdriver\u001B[0m \u001B[0;32mfrom\u001B[0m\u001B[0;34m\u001B[0m\u001B[0;34m\u001B[0m\u001B[0m\n\u001B[0;32m--> 102\u001B[0;31m http://www.nvidia.com/Download/index.aspx\"\"\")\n\u001B[0m\u001B[1;32m    103\u001B[0m         \u001B[0;32melse\u001B[0m\u001B[0;34m:\u001B[0m\u001B[0;34m\u001B[0m\u001B[0;34m\u001B[0m\u001B[0m\n\u001B[1;32m    104\u001B[0m             \u001B[0;31m# TODO: directly link to the alternative bin that needs install\u001B[0m\u001B[0;34m\u001B[0m\u001B[0;34m\u001B[0m\u001B[0;34m\u001B[0m\u001B[0m\n",
      "\u001B[0;31mAssertionError\u001B[0m: \nFound no NVIDIA driver on your system. Please check that you\nhave an NVIDIA GPU and installed a driver from\nhttp://www.nvidia.com/Download/index.aspx"
     ]
    }
   ],
   "source": [
    "# Test moving our instance between devices\n",
    "demo_network.to(\"cuda\")"
   ],
   "metadata": {
    "collapsed": false,
    "pycharm": {
     "name": "#%%\n"
    }
   }
  },
  {
   "cell_type": "code",
   "execution_count": 12,
   "outputs": [
    {
     "data": {
      "text/plain": "tensor([[0.0597, 0.0203, 0.0490, 0.0716, 0.7994],\n        [0.1441, 0.0825, 0.0736, 0.0282, 0.6715],\n        [0.1388, 0.0913, 0.0976, 0.0341, 0.6382],\n        [0.0676, 0.0281, 0.0598, 0.0668, 0.7777],\n        [0.0969, 0.0639, 0.1202, 0.0910, 0.6280],\n        [0.1292, 0.0944, 0.1299, 0.0568, 0.5896],\n        [0.0799, 0.0413, 0.0817, 0.0743, 0.7227],\n        [0.0784, 0.0396, 0.0789, 0.0732, 0.7298],\n        [0.0743, 0.0351, 0.0712, 0.0701, 0.7494],\n        [0.0550, 0.0162, 0.0481, 0.0917, 0.7890],\n        [0.1198, 0.0987, 0.1650, 0.0941, 0.5224],\n        [0.0648, 0.0253, 0.0555, 0.0667, 0.7877],\n        [0.1311, 0.0797, 0.0946, 0.0492, 0.6453],\n        [0.0616, 0.0221, 0.0510, 0.0685, 0.7968],\n        [0.0719, 0.0326, 0.0670, 0.0687, 0.7599],\n        [0.1543, 0.0891, 0.0707, 0.0245, 0.6614],\n        [0.0675, 0.0280, 0.0597, 0.0668, 0.7780],\n        [0.0673, 0.0269, 0.0551, 0.0629, 0.7878],\n        [0.0591, 0.0196, 0.0484, 0.0732, 0.7996],\n        [0.1330, 0.0781, 0.0870, 0.0432, 0.6587],\n        [0.0659, 0.0264, 0.0572, 0.0666, 0.7839],\n        [0.1514, 0.0910, 0.0752, 0.0247, 0.6576],\n        [0.0781, 0.0393, 0.0783, 0.0729, 0.7314],\n        [0.0663, 0.0269, 0.0578, 0.0666, 0.7823],\n        [0.1036, 0.0750, 0.1388, 0.0987, 0.5840]], grad_fn=<DivBackward0>)"
     },
     "execution_count": 12,
     "metadata": {},
     "output_type": "execute_result"
    }
   ],
   "source": [
    "# Finally we create a demo_input and pass it through the network\n",
    "demo_input = torch.randn(25,2)\n",
    "demo_network(demo_input)"
   ],
   "metadata": {
    "collapsed": false,
    "pycharm": {
     "name": "#%%\n"
    }
   }
  },
  {
   "cell_type": "markdown",
   "metadata": {
    "id": "swTnKxznL6Ep"
   },
   "source": [
    "## Part 3: Testing the network using pre-trained parameters for MNIST dataset"
   ]
  },
  {
   "cell_type": "code",
   "metadata": {
    "id": "uOBcElJ7BPcQ"
   },
   "source": [
    "from torchvision.datasets import MNIST\n",
    "from torchvision.transforms import ToTensor\n",
    "from matplotlib.pyplot import subplots\n",
    "\n",
    "def plot_examples(examples):\n",
    "  fig, axs = subplots(nrows=len(examples), figsize=(2,len(examples)*3))\n",
    "  for i,e in enumerate(examples):\n",
    "    T, l = e\n",
    "    img = T.view(28,28).numpy()\n",
    "    if len(examples) > 1:\n",
    "      axs[i].set_title(\"Estimated class: \"+ str(l))\n",
    "      axs[i].imshow(img)\n",
    "    else:\n",
    "      axs.set_title(\"Estimated class: \"+ str(l))\n",
    "      axs.imshow(img)\n",
    "\n",
    "\n",
    "# Downloading and storing MNIST dataset.\n",
    "dataset = MNIST('mnist', train=False, transform=ToTensor(), download=True)\n",
    "print('Total data:',len(dataset))"
   ],
   "execution_count": 389,
   "outputs": [
    {
     "name": "stdout",
     "output_type": "stream",
     "text": [
      "Total data: 10000\n"
     ]
    }
   ]
  },
  {
   "cell_type": "markdown",
   "metadata": {
    "id": "s6s-z1DNL-J0"
   },
   "source": [
    "* ### Loading pre-trained params\n",
    "`load_pre_trained_mnist` is a pretty simple utility that assume we already downloaded the files with the pre-trained\n",
    "values inside the `params` folder."
   ]
  },
  {
   "cell_type": "code",
   "metadata": {
    "id": "SLeq3y8FE3SU"
   },
   "source": [
    "from numpy import loadtxt\n",
    "def load_pre_trained_mnist():\n",
    "  W1 = torch.from_numpy(loadtxt('./params/W1.txt')).float()\n",
    "  W2 = torch.from_numpy(loadtxt('./params/W2.txt')).float()\n",
    "  U = torch.from_numpy(loadtxt('./params/U.txt')).float()\n",
    "  b1 = torch.from_numpy(loadtxt('./params/b1.txt')).float()\n",
    "  b2 = torch.from_numpy(loadtxt('./params/b2.txt')).float()\n",
    "  c = torch.from_numpy(loadtxt('./params/c.txt')).float()\n",
    "\n",
    "  return [(W1,b1),(W2,b2),(U,c)]\n"
   ],
   "execution_count": 381,
   "outputs": []
  },
  {
   "cell_type": "markdown",
   "source": [
    "Now We are going to use the `initial_weights` parameter to initialize our network with pre_trained values\n",
    "for a specific `fixed` network architecture.\n",
    "\n",
    "The structure of the network to be used is the following:\n",
    "* `784` Features in the input layer.\n",
    "* `32`, `16` Neurons in each hidden layer.\n",
    "* `10` Neurons in the output layer.\n",
    "* `Relu` as activation function.\n",
    "* `softmax` as output function.\n"
   ],
   "metadata": {
    "collapsed": false,
    "pycharm": {
     "name": "#%% md\n"
    }
   }
  },
  {
   "cell_type": "code",
   "execution_count": 382,
   "outputs": [],
   "source": [
    "# loading pre-trained values\n",
    "pre_trained_params = load_pre_trained_mnist()\n",
    "model = FFNN(784,[32,16],[relu,relu,softmax],10,initial_weights=pre_trained_params)\n",
    "\n",
    "# Uncomment to try model with random initial weights\n",
    "# model = FFNN(784,[32,16],[relu,relu,softmax],10)\n"
   ],
   "metadata": {
    "collapsed": false,
    "pycharm": {
     "name": "#%%\n"
    }
   }
  },
  {
   "cell_type": "markdown",
   "metadata": {
    "id": "WWRa68ZFMIyr"
   },
   "source": [
    "* ### Passing random example through the network"
   ]
  },
  {
   "cell_type": "code",
   "metadata": {
    "id": "a-SaIzRoMMoc"
   },
   "source": [
    "import random\n",
    "\n",
    "T, l = dataset[random.randint(0,len(dataset))]\n",
    "inp = T.view(1, 28*28)\n",
    "plot_examples([(T,torch.argmax(model(inp)).item())])"
   ],
   "execution_count": 385,
   "outputs": [
    {
     "data": {
      "text/plain": "<Figure size 216x216 with 1 Axes>",
      "image/png": "[encoded data removed]"
     },
     "metadata": {
      "needs_background": "light"
     },
     "output_type": "display_data"
    }
   ]
  },
  {
   "cell_type": "markdown",
   "metadata": {
    "id": "i1cZFU8rMNr1"
   },
   "source": [
    "* ### Procesing entire dataset and analyzing results"
   ]
  },
  {
   "cell_type": "code",
   "metadata": {
    "id": "mL49_0ZAMRd_"
   },
   "source": [
    "from sklearn.metrics import confusion_matrix\n",
    "def process_metrics(expected_output, estimated_output, wrong_answers):\n",
    "  accuracy = 100 * float(torch.sum(expected_output == estimated_output)) / float(expected_output.size()[0])\n",
    "  print(\"#######################METRICS#######################\\n\")\n",
    "  print(f\"Accuracy: {accuracy:.2f}%\")\n",
    "  result_matrix = confusion_matrix(expected_output,estimated_output)\n",
    "  print(f\"Confusion Matrix: \\n\\n{result_matrix}\\n\")\n",
    "  print(\"Total Errors per class:\")\n",
    "  for i in range(len(result_matrix)):\n",
    "    print(f\"{i}: {sum([result_matrix[j][i] for j in range(len(result_matrix)) if j != i])}\")\n",
    "  print(f\"First 5 Errors found: \")\n",
    "  plot_examples(wrong_answers)\n"
   ],
   "execution_count": 419,
   "outputs": []
  },
  {
   "cell_type": "code",
   "execution_count": 420,
   "outputs": [],
   "source": [
    "from torch.utils.data import Subset, DataLoader\n",
    "def calc_metrics(model, dataset, batch_size=100, device='cpu'):\n",
    "  data_iterator = DataLoader(dataset, batch_size=batch_size)\n",
    "  model.to(device)\n",
    "\n",
    "  # the idea of these accumulated data in to be able to calculate the whole confusion_matrix\n",
    "  # could be easily replace with something like acc += torch.sun(output == cls)\n",
    "  # if the accuracy is the only desired metric\n",
    "  accumulated_output = torch.tensor([]).long()\n",
    "  accumulated_cls = torch.tensor([]).long()\n",
    "  wrong_answers = []\n",
    "  for inputs, cls in data_iterator:\n",
    "    inputs = inputs.view(batch_size,28 * 28).to(device)\n",
    "    cls = cls.to(device)\n",
    "    output = torch.argmax(model(inputs),dim=1)\n",
    "    accumulated_output = torch.cat((accumulated_output, output))\n",
    "    accumulated_cls = torch.cat((accumulated_cls,cls))\n",
    "\n",
    "    # Storing only the first 5 errors the idea is not execute this code always\n",
    "    for i,e in enumerate(output == cls):\n",
    "      if len(wrong_answers) == 5:\n",
    "        break\n",
    "      if not e:\n",
    "        wrong_answers.append((inputs[i],output[i].item()))\n",
    "\n",
    "  return process_metrics(accumulated_cls,accumulated_output,wrong_answers)\n"
   ],
   "metadata": {
    "collapsed": false,
    "pycharm": {
     "name": "#%%\n"
    }
   }
  },
  {
   "cell_type": "code",
   "execution_count": 421,
   "outputs": [
    {
     "name": "stdout",
     "output_type": "stream",
     "text": [
      "#######################METRICS#######################\n",
      "\n",
      "Accuracy: 96.12%\n",
      "Confusion Matrix: \n",
      "\n",
      "[[ 959    0    3    2    1    6    3    2    2    2]\n",
      " [   0 1119    4    0    0    0    4    1    7    0]\n",
      " [   4    1 1001    7    3    0    3    5    7    1]\n",
      " [   0    0    9  971    0    5    0    8   12    5]\n",
      " [   0    0    4    0  954    0    5    1    2   16]\n",
      " [   5    0    0   19    2  841    7    1   12    5]\n",
      " [   4    3    4    0   15    7  921    0    4    0]\n",
      " [   0    6   16    5    6    1    0  975    2   17]\n",
      " [   4    2    6   14    7   10    1    3  919    8]\n",
      " [   5    6    2   10   16    3    0    6    9  952]]\n",
      "\n",
      "Total Errors per class:\n",
      "0: 22\n",
      "1: 18\n",
      "2: 48\n",
      "3: 57\n",
      "4: 50\n",
      "5: 32\n",
      "6: 23\n",
      "7: 27\n",
      "8: 57\n",
      "9: 54\n",
      "First 5 Errors found: \n"
     ]
    },
    {
     "data": {
      "text/plain": "<Figure size 144x1080 with 5 Axes>",
      "image/png": "[encoded data removed]"
     },
     "metadata": {
      "needs_background": "light"
     },
     "output_type": "display_data"
    }
   ],
   "source": [
    "calc_metrics(model,dataset)"
   ],
   "metadata": {
    "collapsed": false,
    "pycharm": {
     "name": "#%%\n"
    }
   }
  },
  {
   "cell_type": "markdown",
   "source": [
    "Taking a look at the confusion matrix generated above, we can find not only in which specific cases the model\n",
    "is giving an incorrect answer, also we are able to see which classes are confusing with each other"
   ],
   "metadata": {
    "collapsed": false
   }
  },
  {
   "cell_type": "markdown",
   "source": [
    "* ### Running additional tests:"
   ],
   "metadata": {
    "collapsed": false
   }
  },
  {
   "cell_type": "code",
   "metadata": {
    "id": "JMcid2LRXzrg"
   },
   "source": [
    "indices = corrector.get_test_data(homework=1, question=\"network\", test=1, token=token)\n",
    "test_set = Subset(dataset, indices)\n",
    "\n",
    "# Modelo con los parámetros pre-entrenados para MNIST\n",
    "your_network = model\n",
    "\n",
    "# Montar el `test_set` en un tensor de (N, 28*28) usando DataLoader\n",
    "X = list(DataLoader(test_set, batch_size=len(test_set)))[0][0].view(-1, 28*28)\n",
    "\n",
    "# Almacenar el resultado en un puro tensor de (N,1)\n",
    "result = torch.argmax(your_network(X), dim=1)\n",
    "\n",
    "corrector.sumbit(homework=1, question=\"network\", test=1, token=token, answer=result)"
   ],
   "execution_count": 391,
   "outputs": [
    {
     "name": "stdout",
     "output_type": "stream",
     "text": [
      "Using cached test data\n",
      "Correct Test!\n"
     ]
    }
   ]
  },
  {
   "cell_type": "markdown",
   "metadata": {
    "id": "beF870pABHKe"
   },
   "source": [
    "* ### Using custom cases to test the network"
   ]
  },
  {
   "cell_type": "code",
   "metadata": {
    "id": "KOqCJx4LBG1W"
   },
   "source": [
    "# Acá tu código"
   ],
   "execution_count": null,
   "outputs": []
  }
 ]
}